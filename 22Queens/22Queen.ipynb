{
 "cells": [
  {
   "cell_type": "markdown",
   "metadata": {},
   "source": [
    "## Assignment 2, 22-Queen Programming"
   ]
  },
  {
   "cell_type": "markdown",
   "metadata": {},
   "source": [
    "Your homework must be implemented in this Notebook file. \n",
    "You can add as many cells as you want. However, you are not allowed to touch the code below the line \"=============\".\n"
   ]
  },
  {
   "cell_type": "code",
   "execution_count": 1,
   "metadata": {},
   "outputs": [],
   "source": [
    "n = 17"
   ]
  },
  {
   "cell_type": "code",
   "execution_count": null,
   "metadata": {
    "collapsed": true
   },
   "outputs": [],
   "source": []
  },
  {
   "cell_type": "code",
   "execution_count": 2,
   "metadata": {
    "scrolled": true
   },
   "outputs": [
    {
     "name": "stdout",
     "output_type": "stream",
     "text": [
      "[[0, 0], [1, 2], [2, 4], [3, 1], [4, 7], [5, 10], [6, 14], [7, 6], [8, 15], [9, 13], [10, 16], [11, 3], [12, 5], [13, 8], [14, 11], [15, 9], [16, 12]] \n",
      "\n",
      "[[0, 1], [1, 3], [2, 0], [3, 2], [4, 7], [5, 10], [6, 12], [7, 15], [8, 4], [9, 16], [10, 14], [11, 5], [12, 9], [13, 13], [14, 6], [15, 8], [16, 11]] \n",
      "\n",
      "[[0, 2], [1, 0], [2, 3], [3, 1], [4, 7], [5, 10], [6, 12], [7, 15], [8, 4], [9, 16], [10, 14], [11, 5], [12, 9], [13, 13], [14, 6], [15, 8], [16, 11]] \n",
      "\n",
      "[[0, 3], [1, 0], [2, 2], [3, 4], [4, 6], [5, 10], [6, 13], [7, 16], [8, 14], [9, 7], [10, 1], [11, 15], [12, 5], [13, 8], [14, 11], [15, 9], [16, 12]] \n",
      "\n"
     ]
    }
   ],
   "source": [
    "import sys\n",
    "import numpy as np\n",
    "\n",
    "# override default recursion limit\n",
    "sys.setrecursionlimit(1000000000)\n",
    "\n",
    "\n",
    "class Queens:\n",
    "\n",
    "    def __init__(self, size):\n",
    "        self.size = size\n",
    "        self.columns = [] * self.size\n",
    "        self.num_of_places = 0\n",
    "        self.num_of_backtracks = 0\n",
    "        self.solCount = 0\n",
    "\n",
    "    def place(self, startRow=0):\n",
    "        \n",
    "        # solution when columns == size\n",
    "        if len(self.columns) == self.size:\n",
    "            return self.columns\n",
    "\n",
    "        else:\n",
    "            for row in range(startRow, self.size):\n",
    "                if self.isSafe(len(self.columns), row) is True:\n",
    "                    # place a queen\n",
    "                    self.columns.append(row)\n",
    "                    self.num_of_places += 1\n",
    "                    \n",
    "                    return self.place()\n",
    "            else:\n",
    "                lastRow = self.columns.pop()\n",
    "                self.num_of_backtracks += 1\n",
    "                \n",
    "                return self.place(startRow=lastRow + 1)\n",
    "\n",
    "    def isSafe(self, col, row):\n",
    "        \n",
    "        # check for places of each queen currently on board\n",
    "        for threatRow in self.columns:\n",
    "            \n",
    "            threatCol = self.columns.index(threatRow)\n",
    "            if row == threatRow or col == self.columns.index(threatRow):\n",
    "                return False\n",
    "            elif threatRow + threatCol == row + col or threatRow - threatCol == row - col:\n",
    "                return False\n",
    "            \n",
    "        return True\n",
    "\n",
    "result = [] * 4\n",
    "for startRow in range(0,4):\n",
    "    queens = Queens(n)\n",
    "    queens.place(startRow)\n",
    "    cords = [] * n\n",
    "\n",
    "    for queen in queens.columns:\n",
    "        cords.append([queens.columns.index(queen), queen])\n",
    "    \n",
    "    result.append(cords)\n",
    "    print cords, '\\n'"
   ]
  },
  {
   "cell_type": "code",
   "execution_count": 3,
   "metadata": {
    "collapsed": true
   },
   "outputs": [],
   "source": [
    "def print_result(result):\n",
    "    for b in result:\n",
    "        for pair in b:\n",
    "            sys.stdout.write('(' +  str(pair[0]) + ',' + str(pair[1]) + ') ')\n",
    "        print '\\n'"
   ]
  },
  {
   "cell_type": "code",
   "execution_count": null,
   "metadata": {
    "collapsed": true
   },
   "outputs": [],
   "source": []
  },
  {
   "cell_type": "markdown",
   "metadata": {},
   "source": [
    "You can insert as many cells as you want above\n",
    "You are not Allowed to modify the code below this line.\n",
    "==============================="
   ]
  },
  {
   "cell_type": "code",
   "execution_count": null,
   "metadata": {},
   "outputs": [],
   "source": [
    "#you need to implement print_result function to print out the result according to the required format\n",
    "print_result(result)"
   ]
  },
  {
   "cell_type": "markdown",
   "metadata": {},
   "source": [
    "\n",
    "The output format should be as follows. You only need to give 4 solutions in the following format.\n",
    "Example Output for 4-queens Problem. Each pair of values represents the position of a queen (row, column)\n",
    "(0,1) (1,3) (2,0) (3,2)\n",
    "(0,2) (1,0) (2,3) (3,1)\n",
    "\n",
    "\n"
   ]
  }
 ],
 "metadata": {
  "anaconda-cloud": {},
  "kernelspec": {
   "display_name": "Python 2",
   "language": "python",
   "name": "python2"
  },
  "language_info": {
   "codemirror_mode": {
    "name": "ipython",
    "version": 2
   },
   "file_extension": ".py",
   "mimetype": "text/x-python",
   "name": "python",
   "nbconvert_exporter": "python",
   "pygments_lexer": "ipython2",
   "version": "2.7.15"
  }
 },
 "nbformat": 4,
 "nbformat_minor": 1
}
