{
 "cells": [
  {
   "cell_type": "markdown",
   "metadata": {},
   "source": [
    "# Assignment 1, 8-Puzzle Programming"
   ]
  },
  {
   "cell_type": "markdown",
   "metadata": {},
   "source": [
    "Your homework must be implemented in this Notebook file. \n",
    "You can add as many cells as you want. However, you are not allowed to touch the code below the line \"=============\".\n",
    "You need to implement the three (four for grads) searching functions and the print result functions.\n",
    "For the searching functions, feel free to customize the return data types and parameter lists as long as the function name is as required.\n"
   ]
  },
  {
   "cell_type": "code",
   "execution_count": null,
   "metadata": {
    "collapsed": true
   },
   "outputs": [],
   "source": [
    "import sys\n",
    "import "
   ]
  },
  {
   "cell_type": "code",
   "execution_count": 2,
   "metadata": {
    "collapsed": true
   },
   "outputs": [],
   "source": [
    "class Node:\n",
    "    def __init__(self, state, parent, op, depth, cost):\n",
    "        self.state = state\n",
    "        self.parent = parent\n",
    "        self.op = op\n",
    "        self.depth = depth\n",
    "        self.costo = cost\n",
    "\n",
    "        \n",
    "#collection of checked node\n",
    "usedStates = {}\n",
    "\n",
    "# Move, 0 = up 1 = down, 2 = left, 3 = right\n",
    "def move(state, op):\n",
    "    stateN = state[:]\n",
    "    i = stateN.index(0)    #fnding the index of the empty space\n",
    "    \n",
    "    if op == 0:    #up\n",
    "        if i not in [0, 1, 2]:\n",
    "            \n",
    "            temp = stateN[i - 3]\n",
    "            stateN[i - 3] = stateN[i]\n",
    "            stateN[i] = temp\n",
    "            return stateN\n",
    "        else:\n",
    "            return None\n",
    "        \n",
    "    elif op == 1:    #down\n",
    "        if i not in [6, 7 ,8]:\n",
    "            \n",
    "            temp = stateN[i + 3]\n",
    "            stateN[i + 3] = stateN[i]\n",
    "            stateN[i] = temp\n",
    "            return stateN\n",
    "        else:\n",
    "            return None\n",
    "    elif op == 2:    #right\n",
    "        if i not in [0, 3, 6]:\n",
    "            \n",
    "            temp = stateN[i - 1]\n",
    "            stateN[i - 1] = stateN[i]\n",
    "            stateN[i] = temp\n",
    "            return stateN\n",
    "        else:\n",
    "            return None\n",
    "    elif op == 3:    #left\n",
    "        if i not in [2 ,5, 8]:\n",
    "            \n",
    "            temp = stateN[i + 1]\n",
    "            stateN[i + 1] = stateN[i]\n",
    "            stateN[i] = temp\n",
    "            return stateN\n",
    "        else:\n",
    "            return None\n",
    "\n",
    "\n",
    "def makeNode(state, parent, op, depth, cost):\n",
    "    return Node(state, parent, op, depth, cost)\n",
    "\n",
    "\n",
    "def expandedNodes(node, nodes):\n",
    "    \n",
    "    usedStates[str(node.state)] = node.op\n",
    "    \n",
    "    expNodes = []\n",
    "    expNodes.append(makeNode(move(node.state, 0), node, \"up\", node.depth + 1, 0))\n",
    "    expNodes.append(makeNode(move(node.state, 1), node, \"down\", node.depth + 1, 0))\n",
    "    expNodes.append(makeNode(move(node.state, 2), node, \"left\", node.depth + 1, 0))\n",
    "    expNodes.append(makeNode(move(node.state, 3), node, \"right\", node.depth + 1, 0))\n",
    "    \n",
    "    #remove invalid moves and parented nodes\n",
    "    expNodes = [node for node in expNodes if node.state != None and usedStates.keys().count(node.state) == 0]\n",
    "    #print usedStates\n",
    "    return expNodes\n"
   ]
  },
  {
   "cell_type": "code",
   "execution_count": 74,
   "metadata": {
    "collapsed": true
   },
   "outputs": [],
   "source": [
    "#implementation of function \"aStarMisplacedTiles\"\n"
   ]
  },
  {
   "cell_type": "code",
   "execution_count": null,
   "metadata": {
    "collapsed": true
   },
   "outputs": [],
   "source": [
    "#implementation of function \"aStarManhattanDistance\"\n"
   ]
  },
  {
   "cell_type": "code",
   "execution_count": 4,
   "metadata": {
    "collapsed": true
   },
   "outputs": [],
   "source": [
    "#implementation of function \"breadthFirstSearch\" (for graduate students)\n"
   ]
  },
  {
   "cell_type": "code",
   "execution_count": 5,
   "metadata": {
    "collapsed": true
   },
   "outputs": [],
   "source": [
    "#implementation of function \"print_result(result)\""
   ]
  },
  {
   "cell_type": "code",
   "execution_count": 3,
   "metadata": {
    "scrolled": true
   },
   "outputs": [
    {
     "ename": "KeyboardInterrupt",
     "evalue": "",
     "output_type": "error",
     "traceback": [
      "\u001b[0;31m---------------------------------------------------------------------------\u001b[0m",
      "\u001b[0;31mKeyboardInterrupt\u001b[0m                         Traceback (most recent call last)",
      "\u001b[0;32m<ipython-input-3-e019544293e0>\u001b[0m in \u001b[0;36m<module>\u001b[0;34m()\u001b[0m\n\u001b[1;32m     67\u001b[0m \u001b[0;34m\u001b[0m\u001b[0m\n\u001b[1;32m     68\u001b[0m \u001b[0;32mif\u001b[0m \u001b[0m__name__\u001b[0m \u001b[0;34m==\u001b[0m \u001b[0;34m\"__main__\"\u001b[0m\u001b[0;34m:\u001b[0m\u001b[0;34m\u001b[0m\u001b[0m\n\u001b[0;32m---> 69\u001b[0;31m     \u001b[0mmain\u001b[0m\u001b[0;34m(\u001b[0m\u001b[0;34m)\u001b[0m\u001b[0;34m\u001b[0m\u001b[0m\n\u001b[0m",
      "\u001b[0;32m<ipython-input-3-e019544293e0>\u001b[0m in \u001b[0;36mmain\u001b[0;34m()\u001b[0m\n\u001b[1;32m     42\u001b[0m \u001b[0;34m\u001b[0m\u001b[0m\n\u001b[1;32m     43\u001b[0m     \u001b[0minitialState\u001b[0m \u001b[0;34m=\u001b[0m \u001b[0;34m[\u001b[0m\u001b[0;36m8\u001b[0m\u001b[0;34m,\u001b[0m \u001b[0;36m7\u001b[0m\u001b[0;34m,\u001b[0m \u001b[0;36m5\u001b[0m\u001b[0;34m,\u001b[0m \u001b[0;36m4\u001b[0m\u001b[0;34m,\u001b[0m \u001b[0;36m1\u001b[0m\u001b[0;34m,\u001b[0m \u001b[0;36m2\u001b[0m\u001b[0;34m,\u001b[0m \u001b[0;36m3\u001b[0m\u001b[0;34m,\u001b[0m \u001b[0;36m0\u001b[0m\u001b[0;34m,\u001b[0m \u001b[0;36m6\u001b[0m\u001b[0;34m]\u001b[0m\u001b[0;34m\u001b[0m\u001b[0m\n\u001b[0;32m---> 44\u001b[0;31m     \u001b[0mresult\u001b[0m \u001b[0;34m=\u001b[0m \u001b[0mdfs\u001b[0m\u001b[0;34m(\u001b[0m\u001b[0minitialState\u001b[0m\u001b[0;34m,\u001b[0m \u001b[0mfinalState\u001b[0m\u001b[0;34m)\u001b[0m\u001b[0;34m\u001b[0m\u001b[0m\n\u001b[0m\u001b[1;32m     45\u001b[0m \u001b[0;34m\u001b[0m\u001b[0m\n\u001b[1;32m     46\u001b[0m     \u001b[0;32mif\u001b[0m \u001b[0mresult\u001b[0m \u001b[0;34m==\u001b[0m \u001b[0mNone\u001b[0m\u001b[0;34m:\u001b[0m\u001b[0;34m\u001b[0m\u001b[0m\n",
      "\u001b[0;32m<ipython-input-3-e019544293e0>\u001b[0m in \u001b[0;36mdfs\u001b[0;34m(initial, goal, depth)\u001b[0m\n\u001b[1;32m     28\u001b[0m         \u001b[0;32mif\u001b[0m \u001b[0mnode\u001b[0m\u001b[0;34m.\u001b[0m\u001b[0mdepth\u001b[0m \u001b[0;34m<\u001b[0m \u001b[0mmaxDepth\u001b[0m\u001b[0;34m:\u001b[0m\u001b[0;34m\u001b[0m\u001b[0m\n\u001b[1;32m     29\u001b[0m             \u001b[0;31m#print 'f'\u001b[0m\u001b[0;34m\u001b[0m\u001b[0;34m\u001b[0m\u001b[0m\n\u001b[0;32m---> 30\u001b[0;31m             \u001b[0mexpNodes\u001b[0m \u001b[0;34m=\u001b[0m \u001b[0mexpandedNodes\u001b[0m\u001b[0;34m(\u001b[0m\u001b[0mnode\u001b[0m\u001b[0;34m,\u001b[0m \u001b[0mnodes\u001b[0m\u001b[0;34m)\u001b[0m\u001b[0;34m\u001b[0m\u001b[0m\n\u001b[0m\u001b[1;32m     31\u001b[0m             \u001b[0mexpNodes\u001b[0m\u001b[0;34m.\u001b[0m\u001b[0mextend\u001b[0m\u001b[0;34m(\u001b[0m\u001b[0mnodes\u001b[0m\u001b[0;34m)\u001b[0m\u001b[0;34m\u001b[0m\u001b[0m\n\u001b[1;32m     32\u001b[0m             \u001b[0mnodes\u001b[0m \u001b[0;34m=\u001b[0m \u001b[0mexpNodes\u001b[0m\u001b[0;34m\u001b[0m\u001b[0m\n",
      "\u001b[0;32m<ipython-input-2-47e435a2589a>\u001b[0m in \u001b[0;36mexpandedNodes\u001b[0;34m(node, nodes)\u001b[0m\n\u001b[1;32m     70\u001b[0m \u001b[0;34m\u001b[0m\u001b[0m\n\u001b[1;32m     71\u001b[0m     \u001b[0;31m#remove invalid moves and parented nodes\u001b[0m\u001b[0;34m\u001b[0m\u001b[0;34m\u001b[0m\u001b[0m\n\u001b[0;32m---> 72\u001b[0;31m     \u001b[0mexpNodes\u001b[0m \u001b[0;34m=\u001b[0m \u001b[0;34m[\u001b[0m\u001b[0mnode\u001b[0m \u001b[0;32mfor\u001b[0m \u001b[0mnode\u001b[0m \u001b[0;32min\u001b[0m \u001b[0mexpNodes\u001b[0m \u001b[0;32mif\u001b[0m \u001b[0mnode\u001b[0m\u001b[0;34m.\u001b[0m\u001b[0mstate\u001b[0m \u001b[0;34m!=\u001b[0m \u001b[0mNone\u001b[0m \u001b[0;32mand\u001b[0m \u001b[0musedStates\u001b[0m\u001b[0;34m.\u001b[0m\u001b[0mkeys\u001b[0m\u001b[0;34m(\u001b[0m\u001b[0;34m)\u001b[0m\u001b[0;34m.\u001b[0m\u001b[0mcount\u001b[0m\u001b[0;34m(\u001b[0m\u001b[0mnode\u001b[0m\u001b[0;34m.\u001b[0m\u001b[0mstate\u001b[0m\u001b[0;34m)\u001b[0m \u001b[0;34m==\u001b[0m \u001b[0;36m0\u001b[0m\u001b[0;34m]\u001b[0m\u001b[0;34m\u001b[0m\u001b[0m\n\u001b[0m\u001b[1;32m     73\u001b[0m     \u001b[0;31m#print usedStates\u001b[0m\u001b[0;34m\u001b[0m\u001b[0;34m\u001b[0m\u001b[0m\n\u001b[1;32m     74\u001b[0m     \u001b[0;32mreturn\u001b[0m \u001b[0mexpNodes\u001b[0m\u001b[0;34m\u001b[0m\u001b[0m\n",
      "\u001b[0;31mKeyboardInterrupt\u001b[0m: "
     ]
    }
   ],
   "source": [
    "\n",
    "def dfs(initial, goal, depth=16):\n",
    "    maxDepth = depth\n",
    "    nodes = []\n",
    "    nodes.append(makeNode(initial, None, None, 0, 0))\n",
    "    \n",
    "    \n",
    "    while True:\n",
    "        \n",
    "        if len(nodes) == 0:\n",
    "            #print 'b'\n",
    "            return None\n",
    "        \n",
    "        node = nodes.pop(0)\n",
    "        \n",
    "        if node.state == goal:\n",
    "            moves = []\n",
    "            temp = node\n",
    "            while True:\n",
    "                moves.insert(0, temp.op)\n",
    "                \n",
    "                if temp.depth <= 1:\n",
    "                    break\n",
    "                    \n",
    "                temp = temp.parent  \n",
    "            return moves\n",
    "        \n",
    "        if node.depth < maxDepth:\n",
    "            #print 'f'\n",
    "            expNodes = expandedNodes(node, nodes)\n",
    "            expNodes.extend(nodes)\n",
    "            nodes = expNodes\n",
    "        #print 'g'\n",
    "\n",
    "# Main method\n",
    "def main():\n",
    "    fn = 'Input8PuzzleCasesUpdates.txt'\n",
    "    testStates = open(fn, 'r')\n",
    "    \n",
    "    finalState = [0, 1, 2, 3, 4, 5, 6, 7, 8]\n",
    "    \n",
    "    \n",
    "    initialState = [8, 7, 5, 4, 1, 2, 3, 0, 6]\n",
    "    result = dfs(initialState, finalState)\n",
    "\n",
    "    if result == None:\n",
    "        print \"No solution\"\n",
    "    elif result == [None]:\n",
    "        print \"initial is goal\"\n",
    "    else:\n",
    "        print result\n",
    "        print len(result), \" moves\"\n",
    "        \n",
    "    print usedStates\n",
    "\n",
    "\"\"\"    for line in testStates:\n",
    "        initialState = []\n",
    "        \n",
    "        \n",
    "        for char in line:\n",
    "            if char.isdigit():\n",
    "                initialState.append(int(char))\n",
    "\n",
    "                \n",
    "        print initialState\"\"\"\n",
    "\n",
    "\n",
    "if __name__ == \"__main__\":\n",
    "    main()"
   ]
  },
  {
   "cell_type": "code",
   "execution_count": null,
   "metadata": {
    "collapsed": true
   },
   "outputs": [],
   "source": []
  },
  {
   "cell_type": "code",
   "execution_count": null,
   "metadata": {
    "collapsed": true
   },
   "outputs": [],
   "source": []
  },
  {
   "cell_type": "markdown",
   "metadata": {},
   "source": [
    "You can insert as many cells as you want above\n",
    "You are not Allowed to modify the code below this line.\n",
    "==============================="
   ]
  },
  {
   "cell_type": "code",
   "execution_count": null,
   "metadata": {
    "collapsed": true
   },
   "outputs": [],
   "source": [
    "#you need to implement print_result function to print out the result according to the required format\n",
    "print_result(result)"
   ]
  },
  {
   "cell_type": "markdown",
   "metadata": {},
   "source": [
    "\n",
    "The output format should be as follows. You only need to give one sample solution as an example.\n",
    "+++++++++++++++++++++++++++++++++++++++++++++++++++++++++++++++++++++++++++++++++++++\n",
    "Solution of the first Scenario:\n",
    "X X X\n",
    "X X X\n",
    "X X X\n",
    "to\n",
    "X X X\n",
    "X X X\n",
    "X X X\n",
    "to\n",
    "X X X\n",
    "X X X\n",
    "X X X\n",
    "to\n",
    "X X X\n",
    "X X X\n",
    "X X X\n",
    "to\n",
    ".\n",
    ".\n",
    ".\n",
    "0 1 2\n",
    "3 4 5\n",
    "6 7 8\n",
    "\n",
    "                Average_Steps    Average_Time   Average_Iterations   \n",
    "UCS\n",
    "A*(Misplaced)\n",
    "A*(Manhattan)\n",
    "BFS\n",
    "\n"
   ]
  }
 ],
 "metadata": {
  "anaconda-cloud": {},
  "kernelspec": {
   "display_name": "Python 2",
   "language": "python",
   "name": "python2"
  },
  "language_info": {
   "codemirror_mode": {
    "name": "ipython",
    "version": 2
   },
   "file_extension": ".py",
   "mimetype": "text/x-python",
   "name": "python",
   "nbconvert_exporter": "python",
   "pygments_lexer": "ipython2",
   "version": "2.7.12"
  }
 },
 "nbformat": 4,
 "nbformat_minor": 1
}
